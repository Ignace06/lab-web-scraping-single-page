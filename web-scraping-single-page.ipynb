{
 "cells": [
  {
   "cell_type": "code",
   "execution_count": null,
   "id": "8f5454c2",
   "metadata": {},
   "outputs": [],
   "source": [
    "import pandas as pd\n",
    "import numpy as np\n",
    "\n",
    "from time import sleep\n",
    "from random import randint\n",
    "\n",
    "import spotipy\n",
    "from spotipy.oauth2 import SpotifyClientCredentials"
   ]
  },
  {
   "cell_type": "code",
   "execution_count": null,
   "id": "5f615080",
   "metadata": {},
   "outputs": [],
   "source": [
    "from config import *"
   ]
  },
  {
   "cell_type": "code",
   "execution_count": null,
   "id": "303c4648",
   "metadata": {},
   "outputs": [],
   "source": [
    "sp = spotipy.Spotify(auth_manager=SpotifyClientCredentials(client_id= Client_ID, client_secret= Client_Secret))"
   ]
  },
  {
   "cell_type": "code",
   "execution_count": null,
   "id": "7f4f3c77",
   "metadata": {},
   "outputs": [],
   "source": [
    "def analyze_playlist(creator, playlist_id, pages=5, start=0):\n",
    "    \n",
    "    playlist_columns = [\"Song\", \"Artist\", \"ID\", \"Link\", \"danceability\", \"energy\", \"key\", \"loudness\", \"mode\", \"speechiness\", \"instrumentalness\", \"liveness\", \"valence\", \"tempo\", \"duration_ms\", \"time_signature\"]\n",
    "    \n",
    "    playlist_df = pd.DataFrame(columns = playlist_columns)\n",
    "    \n",
    "    playlist = sp.user_playlist_tracks(creator, playlist_id, offset=start)\n",
    "    nap = randint(1,2)\n",
    "\n",
    "    tracks = playlist[\"items\"]\n",
    "    for track in tracks:\n",
    "        playlist_features = {}\n",
    "        playlist_features[\"Song\"] = track[\"track\"][\"name\"]\n",
    "        playlist_features[\"Artist\"] = track[\"track\"][\"album\"][\"artists\"][0][\"name\"]\n",
    "        playlist_features[\"ID\"] = track[\"track\"][\"id\"]\n",
    "        playlist_features[\"Link\"] = track[\"track\"][\"external_urls\"][\"spotify\"]\n",
    "\n",
    "        audio_features = sp.audio_features(playlist_features[\"ID\"])[0]\n",
    "        for feature in playlist_columns[4:]:\n",
    "            playlist_features[feature] = audio_features[feature]\n",
    "\n",
    "        track_df = pd.DataFrame(playlist_features, index = [0])\n",
    "        playlist_df = pd.concat([playlist_df, track_df], ignore_index = True)\n",
    "    playlist = sp.next(playlist)\n",
    "\n",
    "    print(\"Sleeping for\",nap,\"seconds\")\n",
    "    sleep(nap)\n",
    "    \n",
    "    playlist_df.columns = [\"Song\", \"Artist\", \"ID\", \"Link\", \"Danceability\", \"Energy\", \"Key\", \"Loudness\", \"Mode\", \"Speechiness\", \"Instrumentalness\", \"Liveness\", \"Valence\", \"Tempo\", \"Duration\", \"Time Signature\"]\n",
    "        \n",
    "    return playlist_df"
   ]
  },
  {
   "cell_type": "code",
   "execution_count": null,
   "id": "2a70048e",
   "metadata": {},
   "outputs": [],
   "source": []
  },
  {
   "cell_type": "code",
   "execution_count": null,
   "id": "bbddd01c",
   "metadata": {},
   "outputs": [],
   "source": []
  },
  {
   "cell_type": "code",
   "execution_count": null,
   "id": "69b1fc2e",
   "metadata": {},
   "outputs": [],
   "source": []
  }
 ],
 "metadata": {
  "kernelspec": {
   "display_name": "Python 3 (ipykernel)",
   "language": "python",
   "name": "python3"
  },
  "language_info": {
   "codemirror_mode": {
    "name": "ipython",
    "version": 3
   },
   "file_extension": ".py",
   "mimetype": "text/x-python",
   "name": "python",
   "nbconvert_exporter": "python",
   "pygments_lexer": "ipython3",
   "version": "3.9.7"
  }
 },
 "nbformat": 4,
 "nbformat_minor": 5
}
